{
 "cells": [
  {
   "cell_type": "code",
   "execution_count": 1,
   "metadata": {},
   "outputs": [],
   "source": [
    "%matplotlib inline"
   ]
  },
  {
   "cell_type": "code",
   "execution_count": 2,
   "metadata": {},
   "outputs": [],
   "source": [
    "import pandas as pd\n",
    "import numpy as np\n",
    "import matplotlib.pyplot as plt"
   ]
  },
  {
   "cell_type": "code",
   "execution_count": 3,
   "metadata": {},
   "outputs": [
    {
     "name": "stderr",
     "output_type": "stream",
     "text": [
      "/Users/daviderickson/anaconda3/envs/insight/lib/python3.7/site-packages/IPython/core/interactiveshell.py:3058: DtypeWarning: Columns (26) have mixed types. Specify dtype option on import or set low_memory=False.\n",
      "  interactivity=interactivity, compiler=compiler, result=result)\n"
     ]
    }
   ],
   "source": [
    "df = pd.read_csv('/Users/daviderickson/projects/datasf/data/Assessor_Historical_Secured_Property_Tax_Rolls.csv')"
   ]
  },
  {
   "cell_type": "code",
   "execution_count": 4,
   "metadata": {},
   "outputs": [
    {
     "data": {
      "text/plain": [
       "Index(['Closed Roll Year', 'Property Location', 'Parcel Number', 'Block',\n",
       "       'Lot', 'Volume Number', 'Use Code', 'Use Definition',\n",
       "       'Property Class Code', 'Property Class Code Definition',\n",
       "       'Year Property Built', 'Number of Bathrooms', 'Number of Bedrooms',\n",
       "       'Number of Rooms', 'Number of Stories', 'Number of Units',\n",
       "       'Zoning Code', 'Construction Type', 'Lot Depth', 'Lot Frontage',\n",
       "       'Property Area', 'Basement Area', 'Lot Area', 'Lot Code',\n",
       "       'Tax Rate Area Code', 'Percent of Ownership', 'Exemption Code',\n",
       "       'Exemption Code Definition', 'Status Code', 'Misc Exemption Value',\n",
       "       'Homeowner Exemption Value', 'Current Sales Date',\n",
       "       'Assessed Fixtures Value', 'Assessed Improvement Value',\n",
       "       'Assessed Land Value', 'Assessed Personal Property Value',\n",
       "       'Assessor Neighborhood District', 'Assessor Neighborhood Code',\n",
       "       'Assessor Neighborhood', 'Supervisor District', 'Analysis Neighborhood',\n",
       "       'the_geom', 'Row ID'],\n",
       "      dtype='object')"
      ]
     },
     "execution_count": 4,
     "metadata": {},
     "output_type": "execute_result"
    }
   ],
   "source": [
    "df.columns"
   ]
  },
  {
   "cell_type": "code",
   "execution_count": 5,
   "metadata": {},
   "outputs": [
    {
     "data": {
      "text/plain": [
       "(2238147, 43)"
      ]
     },
     "execution_count": 5,
     "metadata": {},
     "output_type": "execute_result"
    }
   ],
   "source": [
    "df.shape"
   ]
  },
  {
   "cell_type": "code",
   "execution_count": 14,
   "metadata": {},
   "outputs": [
    {
     "data": {
      "text/plain": [
       "'Percent of Ownership'"
      ]
     },
     "execution_count": 14,
     "metadata": {},
     "output_type": "execute_result"
    }
   ],
   "source": [
    "df.columns[25]"
   ]
  },
  {
   "cell_type": "code",
   "execution_count": 15,
   "metadata": {},
   "outputs": [
    {
     "data": {
      "text/html": [
       "<div>\n",
       "<style scoped>\n",
       "    .dataframe tbody tr th:only-of-type {\n",
       "        vertical-align: middle;\n",
       "    }\n",
       "\n",
       "    .dataframe tbody tr th {\n",
       "        vertical-align: top;\n",
       "    }\n",
       "\n",
       "    .dataframe thead th {\n",
       "        text-align: right;\n",
       "    }\n",
       "</style>\n",
       "<table border=\"1\" class=\"dataframe\">\n",
       "  <thead>\n",
       "    <tr style=\"text-align: right;\">\n",
       "      <th></th>\n",
       "      <th>Closed Roll Year</th>\n",
       "      <th>Property Location</th>\n",
       "      <th>Parcel Number</th>\n",
       "      <th>Block</th>\n",
       "      <th>Lot</th>\n",
       "      <th>Volume Number</th>\n",
       "      <th>Use Code</th>\n",
       "      <th>Use Definition</th>\n",
       "      <th>Property Class Code</th>\n",
       "      <th>Property Class Code Definition</th>\n",
       "      <th>...</th>\n",
       "      <th>Assessed Improvement Value</th>\n",
       "      <th>Assessed Land Value</th>\n",
       "      <th>Assessed Personal Property Value</th>\n",
       "      <th>Assessor Neighborhood District</th>\n",
       "      <th>Assessor Neighborhood Code</th>\n",
       "      <th>Assessor Neighborhood</th>\n",
       "      <th>Supervisor District</th>\n",
       "      <th>Analysis Neighborhood</th>\n",
       "      <th>the_geom</th>\n",
       "      <th>Row ID</th>\n",
       "    </tr>\n",
       "  </thead>\n",
       "  <tbody>\n",
       "    <tr>\n",
       "      <th>0</th>\n",
       "      <td>2007.0</td>\n",
       "      <td>0000 0200 BRANNAN             ST0436</td>\n",
       "      <td>3774412</td>\n",
       "      <td>3774</td>\n",
       "      <td>412</td>\n",
       "      <td>25</td>\n",
       "      <td>SRES</td>\n",
       "      <td>Single Family Residential</td>\n",
       "      <td>Z</td>\n",
       "      <td>Condominium</td>\n",
       "      <td>...</td>\n",
       "      <td>660074.0</td>\n",
       "      <td>660074.0</td>\n",
       "      <td>0.0</td>\n",
       "      <td>9.0</td>\n",
       "      <td>9H</td>\n",
       "      <td>South Beach</td>\n",
       "      <td>6</td>\n",
       "      <td>Financial District/South Beach</td>\n",
       "      <td>(37.783600301443, -122.390711686202)</td>\n",
       "      <td>200701013774412</td>\n",
       "    </tr>\n",
       "    <tr>\n",
       "      <th>1</th>\n",
       "      <td>2016.0</td>\n",
       "      <td>0000 1207 INDIANA             ST0004</td>\n",
       "      <td>4228041</td>\n",
       "      <td>4228</td>\n",
       "      <td>041</td>\n",
       "      <td>27</td>\n",
       "      <td>SRES</td>\n",
       "      <td>Single Family Residential</td>\n",
       "      <td>Z</td>\n",
       "      <td>Condominium</td>\n",
       "      <td>...</td>\n",
       "      <td>448902.0</td>\n",
       "      <td>448902.0</td>\n",
       "      <td>0.0</td>\n",
       "      <td>9.0</td>\n",
       "      <td>9E</td>\n",
       "      <td>Potrero Hill</td>\n",
       "      <td>10</td>\n",
       "      <td>Potrero Hill</td>\n",
       "      <td>(37.75482032723, -122.390407823087)</td>\n",
       "      <td>201601014228041</td>\n",
       "    </tr>\n",
       "    <tr>\n",
       "      <th>2</th>\n",
       "      <td>2010.0</td>\n",
       "      <td>0000 0383 SITUS TO BE ASSIGNEDST0000</td>\n",
       "      <td>0041102</td>\n",
       "      <td>0041</td>\n",
       "      <td>102</td>\n",
       "      <td>1</td>\n",
       "      <td>COMR</td>\n",
       "      <td>Commercial Retail</td>\n",
       "      <td>C</td>\n",
       "      <td>Commercial Stores</td>\n",
       "      <td>...</td>\n",
       "      <td>643682.0</td>\n",
       "      <td>1396687.0</td>\n",
       "      <td>0.0</td>\n",
       "      <td>8.0</td>\n",
       "      <td>8D</td>\n",
       "      <td>North Beach</td>\n",
       "      <td>3</td>\n",
       "      <td>North Beach</td>\n",
       "      <td>(37.805391366593, -122.413327689424)</td>\n",
       "      <td>201001010041102</td>\n",
       "    </tr>\n",
       "    <tr>\n",
       "      <th>3</th>\n",
       "      <td>2007.0</td>\n",
       "      <td>0000 0708 NORTH POINT         STT  1</td>\n",
       "      <td>0024038</td>\n",
       "      <td>0024</td>\n",
       "      <td>038</td>\n",
       "      <td>1</td>\n",
       "      <td>SRES</td>\n",
       "      <td>Single Family Residential</td>\n",
       "      <td>Z</td>\n",
       "      <td>Condominium</td>\n",
       "      <td>...</td>\n",
       "      <td>365523.0</td>\n",
       "      <td>365523.0</td>\n",
       "      <td>0.0</td>\n",
       "      <td>8.0</td>\n",
       "      <td>8E</td>\n",
       "      <td>Russian Hill</td>\n",
       "      <td>2</td>\n",
       "      <td>Russian Hill</td>\n",
       "      <td>(37.806098058572, -122.419076819471)</td>\n",
       "      <td>200701010024038</td>\n",
       "    </tr>\n",
       "    <tr>\n",
       "      <th>4</th>\n",
       "      <td>2016.0</td>\n",
       "      <td>0000 0188 MARY TERESA         ST0000</td>\n",
       "      <td>5054A152</td>\n",
       "      <td>5054A</td>\n",
       "      <td>152</td>\n",
       "      <td>30</td>\n",
       "      <td>SRES</td>\n",
       "      <td>Single Family Residential</td>\n",
       "      <td>D</td>\n",
       "      <td>Dwelling</td>\n",
       "      <td>...</td>\n",
       "      <td>255843.0</td>\n",
       "      <td>383764.0</td>\n",
       "      <td>0.0</td>\n",
       "      <td>10.0</td>\n",
       "      <td>10K</td>\n",
       "      <td>Bayview Heights</td>\n",
       "      <td>10</td>\n",
       "      <td>Bayview Hunters Point</td>\n",
       "      <td>(37.713888461234, -122.399170485325)</td>\n",
       "      <td>201601015054A152</td>\n",
       "    </tr>\n",
       "  </tbody>\n",
       "</table>\n",
       "<p>5 rows × 43 columns</p>\n",
       "</div>"
      ],
      "text/plain": [
       "   Closed Roll Year                     Property Location Parcel Number  \\\n",
       "0            2007.0  0000 0200 BRANNAN             ST0436       3774412   \n",
       "1            2016.0  0000 1207 INDIANA             ST0004       4228041   \n",
       "2            2010.0  0000 0383 SITUS TO BE ASSIGNEDST0000       0041102   \n",
       "3            2007.0  0000 0708 NORTH POINT         STT  1       0024038   \n",
       "4            2016.0  0000 0188 MARY TERESA         ST0000      5054A152   \n",
       "\n",
       "   Block  Lot  Volume Number Use Code             Use Definition  \\\n",
       "0   3774  412             25     SRES  Single Family Residential   \n",
       "1   4228  041             27     SRES  Single Family Residential   \n",
       "2   0041  102              1     COMR          Commercial Retail   \n",
       "3   0024  038              1     SRES  Single Family Residential   \n",
       "4  5054A  152             30     SRES  Single Family Residential   \n",
       "\n",
       "  Property Class Code Property Class Code Definition  ...  \\\n",
       "0                   Z                    Condominium  ...   \n",
       "1                   Z                    Condominium  ...   \n",
       "2                   C              Commercial Stores  ...   \n",
       "3                   Z                    Condominium  ...   \n",
       "4                   D                       Dwelling  ...   \n",
       "\n",
       "   Assessed Improvement Value  Assessed Land Value  \\\n",
       "0                    660074.0             660074.0   \n",
       "1                    448902.0             448902.0   \n",
       "2                    643682.0            1396687.0   \n",
       "3                    365523.0             365523.0   \n",
       "4                    255843.0             383764.0   \n",
       "\n",
       "   Assessed Personal Property Value  Assessor Neighborhood District  \\\n",
       "0                               0.0                             9.0   \n",
       "1                               0.0                             9.0   \n",
       "2                               0.0                             8.0   \n",
       "3                               0.0                             8.0   \n",
       "4                               0.0                            10.0   \n",
       "\n",
       "   Assessor Neighborhood Code  Assessor Neighborhood Supervisor District  \\\n",
       "0                          9H            South Beach                   6   \n",
       "1                          9E           Potrero Hill                  10   \n",
       "2                          8D            North Beach                   3   \n",
       "3                          8E           Russian Hill                   2   \n",
       "4                         10K        Bayview Heights                  10   \n",
       "\n",
       "            Analysis Neighborhood                              the_geom  \\\n",
       "0  Financial District/South Beach  (37.783600301443, -122.390711686202)   \n",
       "1                    Potrero Hill   (37.75482032723, -122.390407823087)   \n",
       "2                     North Beach  (37.805391366593, -122.413327689424)   \n",
       "3                    Russian Hill  (37.806098058572, -122.419076819471)   \n",
       "4           Bayview Hunters Point  (37.713888461234, -122.399170485325)   \n",
       "\n",
       "             Row ID  \n",
       "0   200701013774412  \n",
       "1   201601014228041  \n",
       "2   201001010041102  \n",
       "3   200701010024038  \n",
       "4  201601015054A152  \n",
       "\n",
       "[5 rows x 43 columns]"
      ]
     },
     "execution_count": 15,
     "metadata": {},
     "output_type": "execute_result"
    }
   ],
   "source": [
    "df.head(5)"
   ]
  },
  {
   "cell_type": "code",
   "execution_count": 17,
   "metadata": {},
   "outputs": [
    {
     "ename": "AttributeError",
     "evalue": "'DataFrame' object has no attribute 'dtype'",
     "output_type": "error",
     "traceback": [
      "\u001b[0;31m---------------------------------------------------------------------------\u001b[0m",
      "\u001b[0;31mAttributeError\u001b[0m                            Traceback (most recent call last)",
      "\u001b[0;32m<ipython-input-17-b959c06452a1>\u001b[0m in \u001b[0;36m<module>\u001b[0;34m\u001b[0m\n\u001b[0;32m----> 1\u001b[0;31m \u001b[0mdf\u001b[0m\u001b[0;34m.\u001b[0m\u001b[0mdtype\u001b[0m\u001b[0;34m\u001b[0m\u001b[0;34m\u001b[0m\u001b[0m\n\u001b[0m",
      "\u001b[0;32m~/anaconda3/envs/insight/lib/python3.7/site-packages/pandas/core/generic.py\u001b[0m in \u001b[0;36m__getattr__\u001b[0;34m(self, name)\u001b[0m\n\u001b[1;32m   5178\u001b[0m             \u001b[0;32mif\u001b[0m \u001b[0mself\u001b[0m\u001b[0;34m.\u001b[0m\u001b[0m_info_axis\u001b[0m\u001b[0;34m.\u001b[0m\u001b[0m_can_hold_identifiers_and_holds_name\u001b[0m\u001b[0;34m(\u001b[0m\u001b[0mname\u001b[0m\u001b[0;34m)\u001b[0m\u001b[0;34m:\u001b[0m\u001b[0;34m\u001b[0m\u001b[0;34m\u001b[0m\u001b[0m\n\u001b[1;32m   5179\u001b[0m                 \u001b[0;32mreturn\u001b[0m \u001b[0mself\u001b[0m\u001b[0;34m[\u001b[0m\u001b[0mname\u001b[0m\u001b[0;34m]\u001b[0m\u001b[0;34m\u001b[0m\u001b[0;34m\u001b[0m\u001b[0m\n\u001b[0;32m-> 5180\u001b[0;31m             \u001b[0;32mreturn\u001b[0m \u001b[0mobject\u001b[0m\u001b[0;34m.\u001b[0m\u001b[0m__getattribute__\u001b[0m\u001b[0;34m(\u001b[0m\u001b[0mself\u001b[0m\u001b[0;34m,\u001b[0m \u001b[0mname\u001b[0m\u001b[0;34m)\u001b[0m\u001b[0;34m\u001b[0m\u001b[0;34m\u001b[0m\u001b[0m\n\u001b[0m\u001b[1;32m   5181\u001b[0m \u001b[0;34m\u001b[0m\u001b[0m\n\u001b[1;32m   5182\u001b[0m     \u001b[0;32mdef\u001b[0m \u001b[0m__setattr__\u001b[0m\u001b[0;34m(\u001b[0m\u001b[0mself\u001b[0m\u001b[0;34m,\u001b[0m \u001b[0mname\u001b[0m\u001b[0;34m,\u001b[0m \u001b[0mvalue\u001b[0m\u001b[0;34m)\u001b[0m\u001b[0;34m:\u001b[0m\u001b[0;34m\u001b[0m\u001b[0;34m\u001b[0m\u001b[0m\n",
      "\u001b[0;31mAttributeError\u001b[0m: 'DataFrame' object has no attribute 'dtype'"
     ]
    }
   ],
   "source": [
    "df.dtype()"
   ]
  },
  {
   "cell_type": "code",
   "execution_count": null,
   "metadata": {},
   "outputs": [],
   "source": []
  }
 ],
 "metadata": {
  "kernelspec": {
   "display_name": "Python 3",
   "language": "python",
   "name": "python3"
  },
  "language_info": {
   "codemirror_mode": {
    "name": "ipython",
    "version": 3
   },
   "file_extension": ".py",
   "mimetype": "text/x-python",
   "name": "python",
   "nbconvert_exporter": "python",
   "pygments_lexer": "ipython3",
   "version": "3.7.4"
  }
 },
 "nbformat": 4,
 "nbformat_minor": 2
}
